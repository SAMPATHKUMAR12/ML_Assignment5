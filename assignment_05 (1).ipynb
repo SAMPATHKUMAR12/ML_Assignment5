{
 "cells": [
  {
   "cell_type": "markdown",
   "id": "fae0db21",
   "metadata": {},
   "source": [
    "# Task 1: (50 points)\n",
    "\n",
    "## Salary Prediction with Linear Regression\n",
    "\n",
    "In this coding exercise, we'll delve into building a predictive model for salary estimation using linear regression. The dataset locates in a CSV file, contains features that might influence an individual's salary, such as years of experience, education level, and job title. Our goal is to develop a linear regression model that accurately predicts salary based on these features.\n",
    "\n",
    "### Exercise Overview and Implementation Steps\n",
    "\n",
    "#### 1. Reading CSV File (5 Points)\n",
    "We start by loading the dataset from a CSV file named 'salary.csv'. This file contains information about individuals' salaries and related features.\n",
    "\n",
    "#### 2. Creating Features and Output (5 Points)\n",
    "Next, we separate the dataset into features (X) and the target variable (y). The feature matrix, X, comprises all columns except 'Salary', while y represents the 'Salary' column. (hint: we only have the feature of experience in this csv file)\n",
    "\n",
    "#### 3. Splitting Data into Training and Test Sets (5 Points)\n",
    "To evaluate our model's performance, we divide the dataset into training and test sets. The training set will be used to train the model, while the test set will assess its predictive accuracy.\n",
    "\n",
    "#### 4. Building a Linear Regression Model (10 Points)\n",
    "We then initialize a linear regression model using scikit-learn's LinearRegression class. Linear regression is chosen as our predictive model due to its simplicity and interpretability. You can also write your own model by defining a customized model class. Here is an example of sklearn linear regression: https://scikit-learn.org/stable/modules/generated/sklearn.linear_model.LinearRegression.html\n",
    "\n",
    "#### 5. Training the Model (10 Points)\n",
    "With the linear regression model instantiated, we train it using the training data (X_train, y_train) to learn the underlying relationships between features and salary.\n",
    "\n",
    "#### 6. Printing Model Parameters (5 Points)\n",
    "After training, we print the intercept and coefficients of the linear regression model. These parameters provide insights into how each feature contributes to predicting salary.\n",
    "\n",
    "#### 7. Predicting Output for Test Data (3 Points)\n",
    "Using the trained model, we predict the salaries for the test data (x_test).\n",
    "\n",
    "#### 8. Printing Model Score and Mean Squared Error (4 Points)\n",
    "We evaluate the model's performance by calculating its score and mean squared error (MSE) on the test set. The score represents the coefficient of determination (R²), indicating how well the model fits the data, while MSE quantifies the prediction error. You can also try to use other metrics to evaluate your model.\n",
    "\n",
    "#### 9. Showing a Scatter Plot (3 Points)\n",
    "Finally, we visualize the actual versus predicted salaries using a scatter plot. This plot provides a graphical representation of the model's predictive performance."
   ]
  },
  {
   "cell_type": "code",
   "execution_count": 9,
   "id": "59d7a936",
   "metadata": {},
   "outputs": [],
   "source": [
    "# 01. read csv file (5 points)\n",
    "import pandas as pd\n",
    "file='salary.csv'\n",
    "a=pd.read_csv(file)"
   ]
  },
  {
   "cell_type": "code",
   "execution_count": 28,
   "id": "62518519",
   "metadata": {},
   "outputs": [
    {
     "name": "stdout",
     "output_type": "stream",
     "text": [
      "    Experience\n",
      "0          0.0\n",
      "1          0.1\n",
      "2          0.2\n",
      "3          0.3\n",
      "4          0.3\n",
      "..         ...\n",
      "95         7.8\n",
      "96         7.8\n",
      "97         7.9\n",
      "98         7.9\n",
      "99         8.0\n",
      "\n",
      "[100 rows x 1 columns]\n",
      "0      9534\n",
      "1     11667\n",
      "2     11015\n",
      "3     10347\n",
      "4     11110\n",
      "      ...  \n",
      "95    52766\n",
      "96    53253\n",
      "97    51631\n",
      "98    54507\n",
      "99    53702\n",
      "Name: Salary, Length: 100, dtype: int64\n"
     ]
    }
   ],
   "source": [
    "# 02. create the feature x and the output y (5 points)\n",
    "x=a[['Experience']]\n",
    "y=a['Salary']\n",
    "print(x)\n",
    "print(y)"
   ]
  },
  {
   "cell_type": "code",
   "execution_count": 29,
   "id": "db3074ae",
   "metadata": {},
   "outputs": [
    {
     "name": "stdout",
     "output_type": "stream",
     "text": [
      "x_train : \n",
      "    Experience\n",
      "44         3.5\n",
      "72         6.5\n",
      "59         5.5\n",
      "91         7.5\n",
      "98         7.9\n",
      "\n",
      "X_test : \n",
      "    Experience\n",
      "80         7.1\n",
      "79         6.9\n",
      "25         1.6\n",
      "15         1.0\n",
      "39         3.0\n",
      "\n",
      "y_train : \n",
      "44    24581\n",
      "72    37579\n",
      "59    28427\n",
      "91    50368\n",
      "98    54507\n",
      "Name: Salary, dtype: int64\n",
      "\n",
      "y_test : \n",
      "80    41419\n",
      "79    36979\n",
      "25    15750\n",
      "15     1284\n",
      "39     1586\n",
      "Name: Salary, dtype: int64\n"
     ]
    }
   ],
   "source": [
    "# 03. split data into training and test sets (5 points)\n",
    "from sklearn.model_selection import train_test_split \n",
    "x_train, x_test, y_train, y_test = train_test_split(x,y,random_state=50,test_size=0.2,shuffle=True) \n",
    "  \n",
    "# printing out train and test sets \n",
    "  \n",
    "print('x_train : ') \n",
    "print(x_train.head()) \n",
    "print('') \n",
    "print('X_test : ') \n",
    "print(x_test.head()) \n",
    "print('') \n",
    "print('y_train : ') \n",
    "print(y_train.head()) \n",
    "print('') \n",
    "print('y_test : ') \n",
    "print(y_test.head())"
   ]
  },
  {
   "cell_type": "code",
   "execution_count": 34,
   "id": "077f705d",
   "metadata": {},
   "outputs": [],
   "source": [
    "# 04. build a linear regression model (10 points)\n",
    "from sklearn.linear_model import LinearRegression\n",
    "from sklearn.metrics import mean_squared_error, r2_score\n",
    "model=LinearRegression()\n",
    "\n",
    "\n"
   ]
  },
  {
   "cell_type": "code",
   "execution_count": 35,
   "id": "f2254068",
   "metadata": {},
   "outputs": [
    {
     "data": {
      "text/html": [
       "<style>#sk-container-id-1 {color: black;background-color: white;}#sk-container-id-1 pre{padding: 0;}#sk-container-id-1 div.sk-toggleable {background-color: white;}#sk-container-id-1 label.sk-toggleable__label {cursor: pointer;display: block;width: 100%;margin-bottom: 0;padding: 0.3em;box-sizing: border-box;text-align: center;}#sk-container-id-1 label.sk-toggleable__label-arrow:before {content: \"▸\";float: left;margin-right: 0.25em;color: #696969;}#sk-container-id-1 label.sk-toggleable__label-arrow:hover:before {color: black;}#sk-container-id-1 div.sk-estimator:hover label.sk-toggleable__label-arrow:before {color: black;}#sk-container-id-1 div.sk-toggleable__content {max-height: 0;max-width: 0;overflow: hidden;text-align: left;background-color: #f0f8ff;}#sk-container-id-1 div.sk-toggleable__content pre {margin: 0.2em;color: black;border-radius: 0.25em;background-color: #f0f8ff;}#sk-container-id-1 input.sk-toggleable__control:checked~div.sk-toggleable__content {max-height: 200px;max-width: 100%;overflow: auto;}#sk-container-id-1 input.sk-toggleable__control:checked~label.sk-toggleable__label-arrow:before {content: \"▾\";}#sk-container-id-1 div.sk-estimator input.sk-toggleable__control:checked~label.sk-toggleable__label {background-color: #d4ebff;}#sk-container-id-1 div.sk-label input.sk-toggleable__control:checked~label.sk-toggleable__label {background-color: #d4ebff;}#sk-container-id-1 input.sk-hidden--visually {border: 0;clip: rect(1px 1px 1px 1px);clip: rect(1px, 1px, 1px, 1px);height: 1px;margin: -1px;overflow: hidden;padding: 0;position: absolute;width: 1px;}#sk-container-id-1 div.sk-estimator {font-family: monospace;background-color: #f0f8ff;border: 1px dotted black;border-radius: 0.25em;box-sizing: border-box;margin-bottom: 0.5em;}#sk-container-id-1 div.sk-estimator:hover {background-color: #d4ebff;}#sk-container-id-1 div.sk-parallel-item::after {content: \"\";width: 100%;border-bottom: 1px solid gray;flex-grow: 1;}#sk-container-id-1 div.sk-label:hover label.sk-toggleable__label {background-color: #d4ebff;}#sk-container-id-1 div.sk-serial::before {content: \"\";position: absolute;border-left: 1px solid gray;box-sizing: border-box;top: 0;bottom: 0;left: 50%;z-index: 0;}#sk-container-id-1 div.sk-serial {display: flex;flex-direction: column;align-items: center;background-color: white;padding-right: 0.2em;padding-left: 0.2em;position: relative;}#sk-container-id-1 div.sk-item {position: relative;z-index: 1;}#sk-container-id-1 div.sk-parallel {display: flex;align-items: stretch;justify-content: center;background-color: white;position: relative;}#sk-container-id-1 div.sk-item::before, #sk-container-id-1 div.sk-parallel-item::before {content: \"\";position: absolute;border-left: 1px solid gray;box-sizing: border-box;top: 0;bottom: 0;left: 50%;z-index: -1;}#sk-container-id-1 div.sk-parallel-item {display: flex;flex-direction: column;z-index: 1;position: relative;background-color: white;}#sk-container-id-1 div.sk-parallel-item:first-child::after {align-self: flex-end;width: 50%;}#sk-container-id-1 div.sk-parallel-item:last-child::after {align-self: flex-start;width: 50%;}#sk-container-id-1 div.sk-parallel-item:only-child::after {width: 0;}#sk-container-id-1 div.sk-dashed-wrapped {border: 1px dashed gray;margin: 0 0.4em 0.5em 0.4em;box-sizing: border-box;padding-bottom: 0.4em;background-color: white;}#sk-container-id-1 div.sk-label label {font-family: monospace;font-weight: bold;display: inline-block;line-height: 1.2em;}#sk-container-id-1 div.sk-label-container {text-align: center;}#sk-container-id-1 div.sk-container {/* jupyter's `normalize.less` sets `[hidden] { display: none; }` but bootstrap.min.css set `[hidden] { display: none !important; }` so we also need the `!important` here to be able to override the default hidden behavior on the sphinx rendered scikit-learn.org. See: https://github.com/scikit-learn/scikit-learn/issues/21755 */display: inline-block !important;position: relative;}#sk-container-id-1 div.sk-text-repr-fallback {display: none;}</style><div id=\"sk-container-id-1\" class=\"sk-top-container\"><div class=\"sk-text-repr-fallback\"><pre>LinearRegression()</pre><b>In a Jupyter environment, please rerun this cell to show the HTML representation or trust the notebook. <br />On GitHub, the HTML representation is unable to render, please try loading this page with nbviewer.org.</b></div><div class=\"sk-container\" hidden><div class=\"sk-item\"><div class=\"sk-estimator sk-toggleable\"><input class=\"sk-toggleable__control sk-hidden--visually\" id=\"sk-estimator-id-1\" type=\"checkbox\" checked><label for=\"sk-estimator-id-1\" class=\"sk-toggleable__label sk-toggleable__label-arrow\">LinearRegression</label><div class=\"sk-toggleable__content\"><pre>LinearRegression()</pre></div></div></div></div></div>"
      ],
      "text/plain": [
       "LinearRegression()"
      ]
     },
     "execution_count": 35,
     "metadata": {},
     "output_type": "execute_result"
    }
   ],
   "source": [
    "# 05. train the model (10 points) \n",
    "model.fit(x_train,y_train)"
   ]
  },
  {
   "cell_type": "code",
   "execution_count": 36,
   "id": "1abe67d7",
   "metadata": {},
   "outputs": [
    {
     "name": "stdout",
     "output_type": "stream",
     "text": [
      "Intercept: 6257.938228275365\n",
      "Coefficients:\n",
      "Experience : 4877.045549010333\n"
     ]
    }
   ],
   "source": [
    "# 06. print parameters of this linear regression (5 points)\n",
    "print(\"Intercept:\", model.intercept_)\n",
    "print(\"Coefficients:\")\n",
    "for feature, coef in zip(x.columns, model.coef_):\n",
    "    print(feature, ':', coef)"
   ]
  },
  {
   "cell_type": "code",
   "execution_count": 37,
   "id": "badcec71",
   "metadata": {},
   "outputs": [
    {
     "name": "stdout",
     "output_type": "stream",
     "text": [
      "Mean Squared Error (MSE): 36686867.967132494\n",
      "R-squared (R2) Score: 0.7133101873185392\n"
     ]
    }
   ],
   "source": [
    "# 07. predict the output for x_test (3 points)\n",
    "# 08. print the model score and mse (4 points)\n",
    "y_pred = model.predict(x_test)\n",
    "\n",
    "mse = mean_squared_error(y_test, y_pred)\n",
    "r2 = r2_score(y_test, y_pred)\n",
    "\n",
    "print(f\"Mean Squared Error (MSE): {mse}\")\n",
    "print(f\"R-squared (R2) Score: {r2}\")\n"
   ]
  },
  {
   "cell_type": "code",
   "execution_count": 42,
   "id": "0c7d75c9",
   "metadata": {},
   "outputs": [
    {
     "data": {
      "image/png": "[encoded data removed]",
      "text/plain": [
       "<Figure size 800x400 with 1 Axes>"
      ]
     },
     "metadata": {},
     "output_type": "display_data"
    }
   ],
   "source": [
    "# 09. show a scatter plot (3 points)\n",
    "import matplotlib.pyplot as plt\n",
    "plt.figure(figsize=(8,4 ))\n",
    "plt.scatter(y_test, y_pred, color='red', alpha=0.5)\n",
    "plt.title('Actual vs Predicted Salaries')\n",
    "plt.xlabel('Actual Salary')\n",
    "plt.ylabel('Predicted Salary')\n",
    "plt.grid(True)\n",
    "plt.show()"
   ]
  },
  {
   "cell_type": "markdown",
   "id": "89729d52",
   "metadata": {},
   "source": [
    "# Task 2: (50 points) \n",
    "\n",
    "## Naive Bayes Classifier Exercise: Product Review Classification\n",
    "In this programming exercise where you will apply the Naive Bayes classifier to classify product reviews. Each review has been labeled as either 'helpful' or 'not helpful'. Your task is to develop a model that predicts these labels based on the text of the reviews.\n",
    "\n",
    "## Exercise Goals and Implementation Steps\n",
    "\n",
    "### 1. Data Preprocessing\n",
    "- **Task**: Clean and prepare the text data for classification.\n",
    "- **Implementation steps**:\n",
    "  - Convert all text to lowercase to ensure uniformity.\n",
    "  - Remove punctuation to reduce noise and prevent it from affecting word recognition.\n",
    "  - Filter out common stopwords to focus on more meaningful words in the text.\n",
    "\n",
    "### 2. Naive Bayes Classification\n",
    "- **Task**: Implement the Naive Bayes algorithm to classify the sentiment of reviews as either 'helpful' or 'not helpful'.\n",
    "- **Implementation steps**:\n",
    "  - Utilize the preprocessed data to train your Naive Bayes classifier. This involves calculating the prior probabilities for each class and the likelihood of each word within those classes using Laplace smoothing (def train).\n",
    "  - Develop a function to apply these probabilities to new review data to predict classifications (def classify).\n",
    "\n",
    "### 3. Model Evaluation\n",
    "- **Task**: Evaluate the performance of your Naive Bayes model.\n",
    "- **Implementation steps**:\n",
    "  - Apply your classification function to a set of test reviews that were not used during the training phase.\n",
    "  - Compare the predicted labels against the actual labels to determine the accuracy of your model.\n",
    "  - Comment briefly on your model's performance.\n",
    "\n",
    "These steps will guide you through the implementation of a text classification system using the Naive Bayes algorithm, starting from raw data processing to making predictions and evaluating their correctness.\n"
   ]
  },
  {
   "cell_type": "code",
   "execution_count": null,
   "id": "be6f9dbf",
   "metadata": {},
   "outputs": [],
   "source": [
    "# 10 points\n",
    "\n",
    "import string\n",
    "\n",
    "# Dataset for product reviews, each entry consists of a review and its label (\"helpful\" or \"not helpful\").\n",
    "reviews_data = [\n",
    "    (\"Love this! Great purchase, fast delivery.\", \"helpful\"),\n",
    "    (\"Not what I expected, poor quality material.\", \"not helpful\"),\n",
    "    (\"Arrived on time, works perfectly. Would buy again!\", \"helpful\"),\n",
    "    (\"Misleading description, not worth the price.\", \"not helpful\"),\n",
    "    (\"Excellent product, just as described. I'm very satisfied.\", \"helpful\"),\n",
    "    (\"Took too long to arrive. Disappointed with the service.\", \"not helpful\"),\n",
    "    (\"Awesome quality! Fast shipping too.\", \"helpful\"),\n",
    "    (\"One star, broke on the first day.\", \"not helpful\"),\n",
    "    (\"Very helpful customer service, great deal.\", \"helpful\"),\n",
    "    (\"Horrible, nothing like the picture.\", \"not helpful\"),\n",
    "    (\"Definitely recommend it, works flawlessly.\", \"helpful\"),\n",
    "    (\"Overpriced and underdelivers. Sad!\", \"not helpful\"),\n",
    "    (\"Perfect for my needs, arrived promptly.\", \"helpful\"),\n",
    "    (\"Terrible purchase, would not recommend.\", \"not helpful\"),\n",
    "    (\"Happy with this purchase, came quickly and works well.\", \"helpful\"),\n",
    "    (\"Doesn't match the description. Very misleading!\", \"not helpful\"),\n",
    "    (\"Surprisingly good quality for the price, very pleased.\", \"helpful\"),\n",
    "    (\"Waste of money, absolutely terrible.\", \"not helpful\"),\n",
    "    (\"Delivered on time and very useful, I love it!\", \"helpful\"),\n",
    "    (\"Nothing positive to say, avoid at all costs.\", \"not helpful\")\n",
    "]\n",
    "\n",
    "\n",
    "def preprocess(review):\n",
    "\n",
    "    # Define a set of stopwords. These are common words that are generally irrelevant in determining the sentiment or quality of a review.\n",
    "    stopwords = {\"a\", \"an\", \"and\", \"are\", \"as\", \"at\", \"be\", \"by\", \"for\", \"from\", \"has\", \"he\", \"in\", \"is\", \"it\", \"its\", \"of\", \"on\", \"that\", \"the\", \"to\", \"was\", \"were\", \"will\", \"with\"}\n",
    "\n",
    "    # write your solution here\n",
    "\n",
    "    return words"
   ]
  },
  {
   "cell_type": "code",
   "execution_count": null,
   "id": "1ca7e436",
   "metadata": {},
   "outputs": [],
   "source": [
    "# 15 points\n",
    "def train(data):\n",
    "    model = {}\n",
    "\n",
    "    # write your solution here\n",
    "\n",
    "    return model"
   ]
  },
  {
   "cell_type": "code",
   "execution_count": null,
   "id": "ec77ab89",
   "metadata": {},
   "outputs": [],
   "source": [
    "# 15 points\n",
    "def classify(review, model):\n",
    "    \n",
    "    # write your solution here\n",
    "\n",
    "    return predicted_class"
   ]
  },
  {
   "cell_type": "code",
   "execution_count": null,
   "id": "6a5f7c49",
   "metadata": {},
   "outputs": [],
   "source": [
    "# 10 points\n",
    "# Define the test reviews along with their expected labels\n",
    "test_reviews = [\n",
    "    (\"The build quality exceeded my expectations, though the battery life is short.\", \"not helpful\"),\n",
    "    (\"I was hopeful but ultimately let down by its performance.\", \"not helpful\"),\n",
    "    (\"Looks great on paper but fails to deliver in practical use.\", \"not helpful\"),\n",
    "    (\"Remarkably good service from the company, even though the product is average.\", \"helpful\"),\n",
    "    (\"Not the best in the market, but definitely offers good value for the price.\", \"helpful\"),\n",
    "    (\"Despite the high cost, the investment is worth it for its reliability.\", \"helpful\"),\n",
    "    (\"Product arrived late but the customer support was proactive in resolving issues.\", \"helpful\"),\n",
    "    (\"High expectations were met with mediocre results, wouldn’t buy it again.\", \"not helpful\"),\n",
    "    (\"The product does its job, but nothing more – quite unremarkable.\", \"not helpful\"),\n",
    "    (\"Fantastic buy, even if it took some time to get used to it.\", \"helpful\")\n",
    "]\n",
    "\n",
    "# Train the Naive Bayes classifier using the training data and retrieve the model\n",
    "model = train(reviews_data)\n",
    "\n",
    "# write your soluiton here\n",
    "\n",
    "# Print the accuracy\n",
    "print(f\"Accuracy: {accuracy:.2f}\")\n"
   ]
  }
 ],
 "metadata": {
  "kernelspec": {
   "display_name": "Python 3 (ipykernel)",
   "language": "python",
   "name": "python3"
  },
  "language_info": {
   "codemirror_mode": {
    "name": "ipython",
    "version": 3
   },
   "file_extension": ".py",
   "mimetype": "text/x-python",
   "name": "python",
   "nbconvert_exporter": "python",
   "pygments_lexer": "ipython3",
   "version": "3.11.7"
  }
 },
 "nbformat": 4,
 "nbformat_minor": 5
}
