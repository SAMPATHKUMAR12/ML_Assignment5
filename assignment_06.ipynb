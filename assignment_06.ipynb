{
 "cells": [
  {
   "cell_type": "markdown",
   "id": "fae0db21",
   "metadata": {},
   "source": [
    "# Task 1: (50 points)\n",
    "\n",
    "## Salary Prediction with Linear Regression\n",
    "\n",
    "In this coding exercise, we'll delve into building a predictive model for salary estimation using linear regression. The dataset locates in a CSV file, contains features that might influence an individual's salary, such as years of experience, education level, and job title. Our goal is to develop a linear regression model that accurately predicts salary based on these features.\n",
    "\n",
    "### Exercise Overview and Implementation Steps\n",
    "\n",
    "#### 1. Reading CSV File (5 Points)\n",
    "We start by loading the dataset from a CSV file named 'salary.csv'. This file contains information about individuals' salaries and related features.\n",
    "\n",
    "#### 2. Creating Features and Output (5 Points)\n",
    "Next, we separate the dataset into features (X) and the target variable (y). The feature matrix, X, comprises all columns except 'Salary', while y represents the 'Salary' column. (hint: we only have the feature of experience in this csv file)\n",
    "\n",
    "#### 3. Splitting Data into Training and Test Sets (5 Points)\n",
    "To evaluate our model's performance, we divide the dataset into training and test sets. The training set will be used to train the model, while the test set will assess its predictive accuracy.\n",
    "\n",
    "#### 4. Building a Linear Regression Model (10 Points)\n",
    "We then initialize a linear regression model using scikit-learn's LinearRegression class. Linear regression is chosen as our predictive model due to its simplicity and interpretability. You can also write your own model by defining a customized model class. Here is an example of sklearn linear regression: https://scikit-learn.org/stable/modules/generated/sklearn.linear_model.LinearRegression.html\n",
    "\n",
    "#### 5. Training the Model (10 Points)\n",
    "With the linear regression model instantiated, we train it using the training data (X_train, y_train) to learn the underlying relationships between features and salary.\n",
    "\n",
    "#### 6. Printing Model Parameters (5 Points)\n",
    "After training, we print the intercept and coefficients of the linear regression model. These parameters provide insights into how each feature contributes to predicting salary.\n",
    "\n",
    "#### 7. Predicting Output for Test Data (3 Points)\n",
    "Using the trained model, we predict the salaries for the test data (x_test).\n",
    "\n",
    "#### 8. Printing Model Score and Mean Squared Error (4 Points)\n",
    "We evaluate the model's performance by calculating its score and mean squared error (MSE) on the test set. The score represents the coefficient of determination (R²), indicating how well the model fits the data, while MSE quantifies the prediction error. You can also try to use other metrics to evaluate your model.\n",
    "\n",
    "#### 9. Showing a Scatter Plot (3 Points)\n",
    "Finally, we visualize the actual versus predicted salaries using a scatter plot. This plot provides a graphical representation of the model's predictive performance."
   ]
  },
  {
   "cell_type": "code",
   "execution_count": null,
   "id": "59d7a936",
   "metadata": {},
   "outputs": [],
   "source": [
    "# 01. read csv file (5 points)\n"
   ]
  },
  {
   "cell_type": "code",
   "execution_count": null,
   "id": "62518519",
   "metadata": {},
   "outputs": [],
   "source": [
    "# 02. create the feature x and the output y (5 points)\n"
   ]
  },
  {
   "cell_type": "code",
   "execution_count": null,
   "id": "db3074ae",
   "metadata": {},
   "outputs": [],
   "source": [
    "# 03. split data into training and test sets (5 points)\n"
   ]
  },
  {
   "cell_type": "code",
   "execution_count": null,
   "id": "077f705d",
   "metadata": {},
   "outputs": [],
   "source": [
    "# 04. build a linear regression model (10 points)"
   ]
  },
  {
   "cell_type": "code",
   "execution_count": null,
   "id": "f2254068",
   "metadata": {},
   "outputs": [],
   "source": [
    "# 05. train the model (10 points) "
   ]
  },
  {
   "cell_type": "code",
   "execution_count": null,
   "id": "1abe67d7",
   "metadata": {},
   "outputs": [],
   "source": [
    "# 06. print parameters of this linear regression (5 points)"
   ]
  },
  {
   "cell_type": "code",
   "execution_count": null,
   "id": "badcec71",
   "metadata": {},
   "outputs": [],
   "source": [
    "# 07. predict the output for x_test (3 points)\n",
    "# 08. print the model score and mse (4 points)"
   ]
  },
  {
   "cell_type": "code",
   "execution_count": null,
   "id": "0c7d75c9",
   "metadata": {},
   "outputs": [],
   "source": [
    "# 09. show a scatter plot (3 points)"
   ]
  },
  {
   "cell_type": "markdown",
   "id": "89729d52",
   "metadata": {},
   "source": [
    "# Task 2: (50 points) \n",
    "\n",
    "## Naive Bayes Classifier Exercise: Product Review Classification\n",
    "In this programming exercise where you will apply the Naive Bayes classifier to classify product reviews. Each review has been labeled as either 'helpful' or 'not helpful'. Your task is to develop a model that predicts these labels based on the text of the reviews.\n",
    "\n",
    "## Exercise Goals and Implementation Steps\n",
    "\n",
    "### 1. Data Preprocessing\n",
    "- **Task**: Clean and prepare the text data for classification.\n",
    "- **Implementation steps**:\n",
    "  - Convert all text to lowercase to ensure uniformity.\n",
    "  - Remove punctuation to reduce noise and prevent it from affecting word recognition.\n",
    "  - Filter out common stopwords to focus on more meaningful words in the text.\n",
    "\n",
    "### 2. Naive Bayes Classification\n",
    "- **Task**: Implement the Naive Bayes algorithm to classify the sentiment of reviews as either 'helpful' or 'not helpful'.\n",
    "- **Implementation steps**:\n",
    "  - Utilize the preprocessed data to train your Naive Bayes classifier. This involves calculating the prior probabilities for each class and the likelihood of each word within those classes using Laplace smoothing (def train).\n",
    "  - Develop a function to apply these probabilities to new review data to predict classifications (def classify).\n",
    "\n",
    "### 3. Model Evaluation\n",
    "- **Task**: Evaluate the performance of your Naive Bayes model.\n",
    "- **Implementation steps**:\n",
    "  - Apply your classification function to a set of test reviews that were not used during the training phase.\n",
    "  - Compare the predicted labels against the actual labels to determine the accuracy of your model.\n",
    "  - Comment briefly on your model's performance.\n",
    "\n",
    "These steps will guide you through the implementation of a text classification system using the Naive Bayes algorithm, starting from raw data processing to making predictions and evaluating their correctness.\n"
   ]
  },
  {
   "cell_type": "code",
   "execution_count": null,
   "id": "be6f9dbf",
   "metadata": {},
   "outputs": [],
   "source": [
    "# 10 points\n",
    "\n",
    "import string\n",
    "\n",
    "# Dataset for product reviews, each entry consists of a review and its label (\"helpful\" or \"not helpful\").\n",
    "reviews_data = [\n",
    "    (\"Love this! Great purchase, fast delivery.\", \"helpful\"),\n",
    "    (\"Not what I expected, poor quality material.\", \"not helpful\"),\n",
    "    (\"Arrived on time, works perfectly. Would buy again!\", \"helpful\"),\n",
    "    (\"Misleading description, not worth the price.\", \"not helpful\"),\n",
    "    (\"Excellent product, just as described. I'm very satisfied.\", \"helpful\"),\n",
    "    (\"Took too long to arrive. Disappointed with the service.\", \"not helpful\"),\n",
    "    (\"Awesome quality! Fast shipping too.\", \"helpful\"),\n",
    "    (\"One star, broke on the first day.\", \"not helpful\"),\n",
    "    (\"Very helpful customer service, great deal.\", \"helpful\"),\n",
    "    (\"Horrible, nothing like the picture.\", \"not helpful\"),\n",
    "    (\"Definitely recommend it, works flawlessly.\", \"helpful\"),\n",
    "    (\"Overpriced and underdelivers. Sad!\", \"not helpful\"),\n",
    "    (\"Perfect for my needs, arrived promptly.\", \"helpful\"),\n",
    "    (\"Terrible purchase, would not recommend.\", \"not helpful\"),\n",
    "    (\"Happy with this purchase, came quickly and works well.\", \"helpful\"),\n",
    "    (\"Doesn't match the description. Very misleading!\", \"not helpful\"),\n",
    "    (\"Surprisingly good quality for the price, very pleased.\", \"helpful\"),\n",
    "    (\"Waste of money, absolutely terrible.\", \"not helpful\"),\n",
    "    (\"Delivered on time and very useful, I love it!\", \"helpful\"),\n",
    "    (\"Nothing positive to say, avoid at all costs.\", \"not helpful\")\n",
    "]\n",
    "\n",
    "\n",
    "def preprocess(review):\n",
    "\n",
    "    # Define a set of stopwords. These are common words that are generally irrelevant in determining the sentiment or quality of a review.\n",
    "    stopwords = {\"a\", \"an\", \"and\", \"are\", \"as\", \"at\", \"be\", \"by\", \"for\", \"from\", \"has\", \"he\", \"in\", \"is\", \"it\", \"its\", \"of\", \"on\", \"that\", \"the\", \"to\", \"was\", \"were\", \"will\", \"with\"}\n",
    "\n",
    "    # write your solution here\n",
    "\n",
    "    return words"
   ]
  },
  {
   "cell_type": "code",
   "execution_count": null,
   "id": "1ca7e436",
   "metadata": {},
   "outputs": [],
   "source": [
    "# 15 points\n",
    "def train(data):\n",
    "    model = {}\n",
    "\n",
    "    # write your solution here\n",
    "\n",
    "    return model"
   ]
  },
  {
   "cell_type": "code",
   "execution_count": null,
   "id": "ec77ab89",
   "metadata": {},
   "outputs": [],
   "source": [
    "# 15 points\n",
    "def classify(review, model):\n",
    "    \n",
    "    # write your solution here\n",
    "\n",
    "    return predicted_class"
   ]
  },
  {
   "cell_type": "code",
   "execution_count": null,
   "id": "6a5f7c49",
   "metadata": {},
   "outputs": [],
   "source": [
    "# 10 points\n",
    "# Define the test reviews along with their expected labels\n",
    "test_reviews = [\n",
    "    (\"The build quality exceeded my expectations, though the battery life is short.\", \"not helpful\"),\n",
    "    (\"I was hopeful but ultimately let down by its performance.\", \"not helpful\"),\n",
    "    (\"Looks great on paper but fails to deliver in practical use.\", \"not helpful\"),\n",
    "    (\"Remarkably good service from the company, even though the product is average.\", \"helpful\"),\n",
    "    (\"Not the best in the market, but definitely offers good value for the price.\", \"helpful\"),\n",
    "    (\"Despite the high cost, the investment is worth it for its reliability.\", \"helpful\"),\n",
    "    (\"Product arrived late but the customer support was proactive in resolving issues.\", \"helpful\"),\n",
    "    (\"High expectations were met with mediocre results, wouldn’t buy it again.\", \"not helpful\"),\n",
    "    (\"The product does its job, but nothing more – quite unremarkable.\", \"not helpful\"),\n",
    "    (\"Fantastic buy, even if it took some time to get used to it.\", \"helpful\")\n",
    "]\n",
    "\n",
    "# Train the Naive Bayes classifier using the training data and retrieve the model\n",
    "model = train(reviews_data)\n",
    "\n",
    "# write your soluiton here\n",
    "\n",
    "# Print the accuracy\n",
    "print(f\"Accuracy: {accuracy:.2f}\")\n"
   ]
  }
 ],
 "metadata": {
  "kernelspec": {
   "display_name": "tensorflow",
   "language": "python",
   "name": "python3"
  },
  "language_info": {
   "codemirror_mode": {
    "name": "ipython",
    "version": 3
   },
   "file_extension": ".py",
   "mimetype": "text/x-python",
   "name": "python",
   "nbconvert_exporter": "python",
   "pygments_lexer": "ipython3",
   "version": "3.10.11"
  }
 },
 "nbformat": 4,
 "nbformat_minor": 5
}
